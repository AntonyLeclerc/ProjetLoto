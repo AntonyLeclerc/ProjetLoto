{
 "cells": [
  {
   "cell_type": "code",
   "execution_count": 1,
   "metadata": {},
   "outputs": [],
   "source": [
    "import os\n",
    "import cv2\n",
    "import numpy as np\n",
    "import matplotlib.pyplot as plt\n",
    "import tensorflow as tf"
   ]
  },
  {
   "cell_type": "code",
   "execution_count": 2,
   "metadata": {},
   "outputs": [],
   "source": [
    "def openImage(f):\n",
    "    return cv2.imread(f)"
   ]
  },
  {
   "cell_type": "markdown",
   "metadata": {},
   "source": [
    "### Avec entraînement sur MNIST et evaluation test sur images Loto\n",
    "\n",
    "Problème -> Chiffres de 0 à 9, on a pas de 1 à 50"
   ]
  },
  {
   "cell_type": "code",
   "execution_count": 3,
   "metadata": {},
   "outputs": [],
   "source": [
    "mnist = tf.keras.datasets.mnist\n",
    "(x_train, y_train), (x_test, y_test) = mnist.load_data()\n",
    "\n",
    "\n",
    "x_train = tf.keras.utils.normalize(x_train, axis=1)\n",
    "x_test = tf.keras.utils.normalize(x_test, axis=1)"
   ]
  },
  {
   "cell_type": "markdown",
   "metadata": {},
   "source": [
    "Nos images de Loto ayant été rognées en 70x70, on est obligés de resize / rescale les images MNIST qui sont de base en 28x28, en 70x70"
   ]
  },
  {
   "cell_type": "code",
   "execution_count": 4,
   "metadata": {},
   "outputs": [],
   "source": [
    "tmp = []\n",
    "for img in x_train:\n",
    "    res = cv2.resize(img, dsize=(70, 70), interpolation=cv2.INTER_CUBIC)\n",
    "    tmp.append(res)\n",
    "    \n",
    "tmp = np.array(tmp)\n",
    "x_train = tmp"
   ]
  },
  {
   "cell_type": "code",
   "execution_count": 5,
   "metadata": {},
   "outputs": [
    {
     "name": "stdout",
     "output_type": "stream",
     "text": [
      "Epoch 1/5\n",
      "1875/1875 [==============================] - 18s 9ms/step - loss: 0.2304 - accuracy: 0.9310\n",
      "Epoch 2/5\n",
      "1875/1875 [==============================] - 16s 8ms/step - loss: 0.1040 - accuracy: 0.9673\n",
      "Epoch 3/5\n",
      "1875/1875 [==============================] - 15s 8ms/step - loss: 0.0728 - accuracy: 0.9768\n",
      "Epoch 4/5\n",
      "1875/1875 [==============================] - 16s 8ms/step - loss: 0.0586 - accuracy: 0.9809\n",
      "Epoch 5/5\n",
      "1875/1875 [==============================] - 11s 6ms/step - loss: 0.0463 - accuracy: 0.9850\n",
      "INFO:tensorflow:Assets written to: handwritten.model/assets\n"
     ]
    },
    {
     "name": "stderr",
     "output_type": "stream",
     "text": [
      "INFO:tensorflow:Assets written to: handwritten.model/assets\n"
     ]
    }
   ],
   "source": [
    "# You can either run this cell or the next one which loads the model already trained\n",
    "\n",
    "model = tf.keras.models.Sequential()\n",
    "model.add(tf.keras.layers.Flatten(input_shape=(70,70)))\n",
    "model.add(tf.keras.layers.Dense(128, activation='relu'))\n",
    "model.add(tf.keras.layers.Dense(128, activation='relu'))\n",
    "model.add(tf.keras.layers.Dense(51, activation='softmax'))\n",
    "\n",
    "model.compile(optimizer='adam', loss='sparse_categorical_crossentropy', metrics=['accuracy'])\n",
    "\n",
    "model.fit(x_train, y_train, epochs=5)\n",
    "\n",
    "model.save('handwritten.model')"
   ]
  },
  {
   "cell_type": "code",
   "execution_count": 9,
   "metadata": {},
   "outputs": [],
   "source": [
    "# model = tf.keras.models.load_model(\"handwritten.model\")"
   ]
  },
  {
   "cell_type": "code",
   "execution_count": 10,
   "metadata": {},
   "outputs": [],
   "source": [
    "x_test = []\n",
    "y_test = []\n",
    "\n",
    "for classe in range(1,51):\n",
    "    for num in range(1,10):\n",
    "        if os.path.isfile(f\"ImagesRognees/num{classe}/{classe}_num_{num}.jpg\"):\n",
    "            img = openImage(f\"ImagesRognees/num{classe}/{classe}_num_{num}.jpg\")[:,:,0]\n",
    "            img = np.invert(np.array([img]))\n",
    "            x_test.append(img[0])\n",
    "            y_test.append(classe)\n",
    "            \n",
    "x_test = np.array(x_test)\n",
    "y_test = np.array(y_test)"
   ]
  },
  {
   "cell_type": "markdown",
   "metadata": {},
   "source": [
    "L'entraînement sur MNIST a été fait, on essaye d'évaluer sur nos images."
   ]
  },
  {
   "cell_type": "code",
   "execution_count": 14,
   "metadata": {},
   "outputs": [
    {
     "name": "stdout",
     "output_type": "stream",
     "text": [
      "8/8 [==============================] - 0s 4ms/step - loss: 10676.1055 - accuracy: 0.0315\n"
     ]
    }
   ],
   "source": [
    "loss, accuracy = model.evaluate(x_test, y_test)"
   ]
  },
  {
   "cell_type": "markdown",
   "metadata": {},
   "source": [
    "Accuracy extrêmement faible..."
   ]
  },
  {
   "cell_type": "code",
   "execution_count": 15,
   "metadata": {
    "scrolled": true
   },
   "outputs": [
    {
     "data": {
      "text/plain": [
       "254"
      ]
     },
     "execution_count": 15,
     "metadata": {},
     "output_type": "execute_result"
    }
   ],
   "source": [
    "len(x_test)"
   ]
  },
  {
   "cell_type": "code",
   "execution_count": 22,
   "metadata": {},
   "outputs": [
    {
     "name": "stdout",
     "output_type": "stream",
     "text": [
      "1/1 [==============================] - 0s 15ms/step\n"
     ]
    },
    {
     "data": {
      "image/png": "[encoded data removed]",
      "text/plain": [
       "<Figure size 432x288 with 1 Axes>"
      ]
     },
     "metadata": {
      "needs_background": "light"
     },
     "output_type": "display_data"
    }
   ],
   "source": [
    "# On a 254 images qu'on a extraites à la main\n",
    "c = np.random.randint(0,254)\n",
    "img = x_test[c]\n",
    "img = np.array([img])\n",
    "\n",
    "prediction = model.predict(img)\n",
    "plt.imshow(img[0], cmap=plt.cm.binary)\n",
    "plt.title(f\"Classe : {y_test[c]}\\nPrediction : {np.argmax(prediction)}\")\n",
    "plt.show()"
   ]
  },
  {
   "cell_type": "markdown",
   "metadata": {},
   "source": [
    "### Entraînement sur nos propres images de loto"
   ]
  },
  {
   "cell_type": "code",
   "execution_count": 23,
   "metadata": {},
   "outputs": [],
   "source": [
    "x_train = []\n",
    "y_train = []\n",
    "\n",
    "for classe in range(1,51):\n",
    "    for num in range(1,10):\n",
    "        if os.path.isfile(f\"ImagesRognees/num{classe}/{classe}_num_{num}.jpg\"):\n",
    "            img = openImage(f\"ImagesRognees/num{classe}/{classe}_num_{num}.jpg\")[:,:,0]\n",
    "            img = np.invert(np.array([img]))\n",
    "            x_train.append(img[0])\n",
    "            y_train.append(classe)\n",
    "            \n",
    "x_train = np.array(x_train)\n",
    "y_train = np.array(y_train)"
   ]
  },
  {
   "cell_type": "code",
   "execution_count": 24,
   "metadata": {},
   "outputs": [
    {
     "name": "stdout",
     "output_type": "stream",
     "text": [
      "Epoch 1/5\n",
      "8/8 [==============================] - 1s 17ms/step - loss: 945.3817 - accuracy: 0.0197\n",
      "Epoch 2/5\n",
      "8/8 [==============================] - 0s 8ms/step - loss: 479.9460 - accuracy: 0.0157\n",
      "Epoch 3/5\n",
      "8/8 [==============================] - 0s 9ms/step - loss: 150.5999 - accuracy: 0.0276\n",
      "Epoch 4/5\n",
      "8/8 [==============================] - 0s 9ms/step - loss: 33.4721 - accuracy: 0.0157\n",
      "Epoch 5/5\n",
      "8/8 [==============================] - 0s 7ms/step - loss: 3.9315 - accuracy: 0.0197\n",
      "INFO:tensorflow:Assets written to: loto.model/assets\n"
     ]
    },
    {
     "name": "stderr",
     "output_type": "stream",
     "text": [
      "INFO:tensorflow:Assets written to: loto.model/assets\n"
     ]
    }
   ],
   "source": [
    "# You can either run this cell or the next one which loads the model already trained\n",
    "\n",
    "model = tf.keras.models.Sequential()\n",
    "model.add(tf.keras.layers.Flatten(input_shape=(70,70)))\n",
    "model.add(tf.keras.layers.Dense(128, activation='relu'))\n",
    "model.add(tf.keras.layers.Dense(128, activation='relu'))\n",
    "model.add(tf.keras.layers.Dense(51, activation='softmax'))\n",
    "\n",
    "model.compile(optimizer='adam', loss='sparse_categorical_crossentropy', metrics=['accuracy'])\n",
    "\n",
    "model.fit(x_train, y_train, epochs=5)\n",
    "\n",
    "model.save('loto.model')"
   ]
  },
  {
   "cell_type": "markdown",
   "metadata": {},
   "source": [
    "Toujours une très faible accuracy après l'entraînement..."
   ]
  },
  {
   "cell_type": "code",
   "execution_count": 25,
   "metadata": {},
   "outputs": [
    {
     "name": "stdout",
     "output_type": "stream",
     "text": [
      "8/8 [==============================] - 0s 4ms/step - loss: 3.9314 - accuracy: 0.0197\n"
     ]
    },
    {
     "data": {
      "text/plain": [
       "[3.9313879013061523, 0.019685039296746254]"
      ]
     },
     "execution_count": 25,
     "metadata": {},
     "output_type": "execute_result"
    }
   ],
   "source": [
    "# En essayant d'évaluer sur les images d'entraînement même (pas très pertinent de base, mais toujours une très faible accuracy)\n",
    "model.evaluate(x_train, y_train)"
   ]
  },
  {
   "cell_type": "code",
   "execution_count": 26,
   "metadata": {},
   "outputs": [
    {
     "name": "stdout",
     "output_type": "stream",
     "text": [
      "1/1 [==============================] - 0s 43ms/step\n"
     ]
    },
    {
     "data": {
      "image/png": "[encoded data removed]",
      "text/plain": [
       "<Figure size 432x288 with 1 Axes>"
      ]
     },
     "metadata": {
      "needs_background": "light"
     },
     "output_type": "display_data"
    }
   ],
   "source": [
    "# Test sur une image\n",
    "img = openImage(f\"ImagesRognees/imagesTest/7_test.jpg\")[:,:,0]\n",
    "img = np.invert(np.array([img]))\n",
    "prediction = model.predict(img)\n",
    "plt.imshow(img[0], cmap=plt.cm.binary)\n",
    "plt.title(f\"Classe : {7}\\nPrediction : {np.argmax(prediction)}\")\n",
    "plt.show()"
   ]
  },
  {
   "cell_type": "code",
   "execution_count": null,
   "metadata": {},
   "outputs": [],
   "source": []
  }
 ],
 "metadata": {
  "kernelspec": {
   "display_name": "Python 3",
   "language": "python",
   "name": "python3"
  },
  "language_info": {
   "codemirror_mode": {
    "name": "ipython",
    "version": 3
   },
   "file_extension": ".py",
   "mimetype": "text/x-python",
   "name": "python",
   "nbconvert_exporter": "python",
   "pygments_lexer": "ipython3",
   "version": "3.8.10"
  }
 },
 "nbformat": 4,
 "nbformat_minor": 5
}
